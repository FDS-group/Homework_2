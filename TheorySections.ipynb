{
 "cells": [
  {
   "cell_type": "markdown",
   "metadata": {},
   "source": [
    "### Exercise one "
   ]
  },
  {
   "cell_type": "markdown",
   "metadata": {},
   "source": [
    "\\begin{align}\n",
    "P(z|x^i, \\theta) = {h_\\theta(x^{(i)}))^{z^{(i)}}(1-h_\\theta(x^{(i)}))^{1-{z^{(i)}}}}\n",
    "\\end{align} "
   ]
  },
  {
   "cell_type": "markdown",
   "metadata": {},
   "source": [
    "Due to h_theta being Independent and Identically Distributed:"
   ]
  },
  {
   "cell_type": "markdown",
   "metadata": {},
   "source": [
    "\\begin{equation*}\n",
    "L(\\theta)= \\prod_{i=1}^{m}{h_\\theta(x^{(i)}))^{z^{(i)}}(1-h_\\theta(x^{(i)}))^{1-{z^{(i)}}}}\n",
    "\\end{equation*} "
   ]
  },
  {
   "cell_type": "markdown",
   "metadata": {},
   "source": [
    "\\begin{equation*}\n",
    "h_\\theta(x^{(i)})= \\frac{1}{1 + \\exp(-\\theta^{T}x^{(i)})}\n",
    "\\end{equation*}\n",
    " "
   ]
  },
  {
   "cell_type": "markdown",
   "metadata": {},
   "source": [
    "\\begin{align}\n",
    "L(\\theta)= \\prod_{i=1}^{m}\\bigg[\\frac{1}{1 + \\exp(-\\theta^{T}x^{(i)})}\\bigg]^{z^{(i)}}\n",
    "\\bigg[1- \\frac{1}{1 + \\exp(-\\theta^{T}x^{(i)})}\\bigg]^{1-z^{(i)}}  \n",
    "=\\prod_{i=1}^{m}\\bigg[\\frac{1}{1 + \\exp(-\\theta^{T}x^{(i)})}\\bigg]^{z^{(i)}}\n",
    "\\bigg[\\frac{exp(-\\theta^{T}x^{(i)})}{1 + \\exp(-\\theta^{T}x^{(i)})}\\bigg]^{1-z^{(i)}}=\n",
    "\\end{align}"
   ]
  },
  {
   "cell_type": "markdown",
   "metadata": {},
   "source": [
    "\\begin{align}\n",
    "=\\prod_{i=1}^{m}\\bigg[\\frac{1}{1 + \\exp(-\\theta^{T}x^{(i)})}\\bigg]^{z^{(i)}}\n",
    "\\bigg[\\frac{exp(-\\theta^{T}x^{(i)})}{1 + \\exp(-\\theta^{T}x^{(i)})}\\bigg]\n",
    "\\bigg[\\frac{1 + \\exp(-\\theta^{T}x^{(i)})}{exp(-\\theta^{T}x^{(i)})}\\bigg]^{z^{(i)}}=\n",
    "\\end{align}"
   ]
  },
  {
   "cell_type": "markdown",
   "metadata": {},
   "source": [
    "\\begin{align}\n",
    " =\\prod_{i=1}^{m}\\bigg[\\frac{exp(-\\theta^{T}x^{(i)})}{1 + \\exp(-\\theta^{T}x^{(i)})}\\bigg]\n",
    " \\bigg[\\frac{1}{\\exp(-\\theta^{T}x^{(i)})}\\bigg]^{z^{(i)}}\n",
    "\\end{align}"
   ]
  },
  {
   "cell_type": "markdown",
   "metadata": {},
   "source": [
    "\\begin{align}\n",
    "=\\prod_{i=1}^{m}\\biggl(\\frac{1}{1 + \\exp(-\\theta^{T}x^{(i)})}\\biggl){(exp(-\\theta^{T}x^{(i)}}))^{1-z^{(i)}}\n",
    "\\end{align}"
   ]
  },
  {
   "cell_type": "markdown",
   "metadata": {},
   "source": [
    "### We can obtain $l_\\theta$ following two ways "
   ]
  },
  {
   "cell_type": "markdown",
   "metadata": {},
   "source": [
    "***_first_*** "
   ]
  },
  {
   "cell_type": "markdown",
   "metadata": {},
   "source": [
    "\\begin{align}\n",
    "l(\\theta) = \\log[L(\\theta)] = \\sum_{i=1}^{m}\\log \\biggl[ \\frac{1}{1 + \\exp(-\\theta^{T}x^{(i)})}\\biggl] +\n",
    "(1-z^{(i)})\\log(exp(-\\theta^{T}{x^{(i)}}))=\n",
    "\\end{align}"
   ]
  },
  {
   "cell_type": "markdown",
   "metadata": {},
   "source": [
    "\\begin{align}\n",
    "\\sum_{i=1}^{m} - \\log(1+exp(-\\theta^{T}{x^{(i)}}))-({1-z^{(i)})(\\theta^{T}{x^{(i)}}})\n",
    "\\end{align}"
   ]
  },
  {
   "cell_type": "markdown",
   "metadata": {},
   "source": [
    "\\begin{align}\n",
    "=\\sum_{i=1}^{m}\\theta^{T}{x^{(i)}}({z^{(i)}-1)} - log(1 + exp(-\\theta^{T}{x^{(i)}}))\n",
    "\\end{align}"
   ]
  },
  {
   "cell_type": "markdown",
   "metadata": {},
   "source": [
    "***_second_***"
   ]
  },
  {
   "cell_type": "markdown",
   "metadata": {},
   "source": [
    "\\begin{align}\n",
    "l(\\theta) = \\log[L(\\theta)] = \\log\\prod_{i=1}^{m}{h_\\theta(x^{(i)}))^{z^{(i)}}(1-h_\\theta(x^{(i)}))^{1-{z^{(i)}}}}\n",
    "\\end{align}"
   ]
  },
  {
   "cell_type": "markdown",
   "metadata": {},
   "source": [
    "\\begin{align}\n",
    "l(\\theta) = \\sum_{i=1}^{m}z^{(i)}\\log(h_\\theta{x^{(i)}}) + (1-{z^{(i)}})\\log(1-h_\\theta{x^{(i)}}))=\n",
    "\\end{align}\n"
   ]
  },
  {
   "cell_type": "markdown",
   "metadata": {},
   "source": [
    "\\begin{align}\n",
    "= \\sum_{i=1}^{m}\\log (1-h_\\theta{x^{(i)}})+ {z^{(i)}}[\\log(h_\\theta({x^{(i)}}))-\n",
    "\\log(1-h_\\theta({x^{(i)}}))]=\n",
    "\\end{align}"
   ]
  },
  {
   "cell_type": "markdown",
   "metadata": {},
   "source": [
    "\\begin{align}\n",
    "= \\sum_{i=1}^{m}\\log(1-h_\\theta({x^{(i)}}))+ {z^{(i)}}\\log\\bigg[\\frac{h_\\theta({x^{(i)}})}{1-h_\\theta({x^{(i)}})}\\bigg]=\n",
    "\\end{align}"
   ]
  },
  {
   "cell_type": "markdown",
   "metadata": {},
   "source": [
    "\\begin{align}\n",
    "= \\sum_{i=1}^{m}\\log\\bigg[1- \\frac{1}{1+exp(-\\theta^{T}{x^{(i)})}}\\bigg]+ \n",
    "{z^{(i)}}\\log\\bigg[\\frac{1}{exp(-\\theta^{T}{x^{(i)})}}\\bigg]=\n",
    "\\end{align}"
   ]
  },
  {
   "cell_type": "markdown",
   "metadata": {},
   "source": [
    "\\begin{align}\n",
    "= \\sum_{i=1}^{m}\\log\\bigg[\\frac{exp(-\\theta^{T}{x^{(i)}})}{1+exp(-\\theta^{T}{x^{(i)}})}\\bigg]+ \n",
    "{z^{(i)}}(\\theta^{T}{x^{(i)}})=\n",
    "\\end{align}"
   ]
  },
  {
   "cell_type": "markdown",
   "metadata": {},
   "source": [
    "\\begin{align}\n",
    "= \\sum_{i=1}^{m} -\\theta^{T}{x^{(i)}} -log(1+exp(-\\theta^{T}{x^{(i)}}) + {z^{(i)}}[\\theta^{T}{x^{(i)}}] \n",
    "\\end{align}"
   ]
  },
  {
   "cell_type": "markdown",
   "metadata": {},
   "source": [
    "\\begin{align}\n",
    "=\\sum_{i=1}^{m}\\theta^{T}{x^{(i)}}({z^{(i)}-1)} - log(1 + exp(-\\theta^{T}{x^{(i)}}))\n",
    "\\end{align}"
   ]
  },
  {
   "cell_type": "markdown",
   "metadata": {},
   "source": [
    "Both approaches lead to the same result"
   ]
  },
  {
   "cell_type": "markdown",
   "metadata": {},
   "source": [
    "##### Since in our specific case z can take values {-1, 1}, and the above equation only holds for cases in which z takes values {0, 1} we would simply apply the following transformation of z:\n",
    "\n",
    "\\begin{align}\n",
    "z^{(i)} = \\frac{y^{(i)}}{2} + \\frac{1}{2}\n",
    "\\end{align}"
   ]
  },
  {
   "cell_type": "markdown",
   "metadata": {},
   "source": [
    "### Second Page "
   ]
  },
  {
   "cell_type": "markdown",
   "metadata": {},
   "source": [
    "\\begin{align}\n",
    "l(\\theta) = \\sum_{i=1}^{m} [\\theta^{T}{x^{(i)}}({z^{(i)}-1)}]\n",
    "- \\log (1+ exp(-\\theta^{T}{x^{(i)}}))\n",
    "\\end{align}"
   ]
  },
  {
   "cell_type": "markdown",
   "metadata": {},
   "source": [
    "Splitting up the derivatives into parts.\n",
    "\n",
    "A.\n",
    "\\begin{align}\n",
    "l(\\theta)= \\theta^{T}{x^{(i)}}({z^{(i)}-1})\n",
    "\\end{align}"
   ]
  },
  {
   "cell_type": "markdown",
   "metadata": {},
   "source": [
    "\\begin{align}\n",
    "\\frac{\\partial l(\\theta)}{\\partial \\theta_{j}} = {x^{(i)}_{j}}({z^{(i)}-1})\n",
    "\\end{align}"
   ]
  },
  {
   "cell_type": "markdown",
   "metadata": {},
   "source": [
    "B. \n",
    "\\begin{align}\n",
    "l(\\theta)= \\log(1+exp({-\\theta^{T}{x^{(i)}}}))\n",
    "\\end{align}"
   ]
  },
  {
   "cell_type": "markdown",
   "metadata": {},
   "source": [
    "\\begin{align}\n",
    "\\frac{\\partial l(\\theta)}{\\partial \\theta_{j}} = \\frac{1}{(1 + exp(-{\\theta^{T}{x^{(i)}}}))}\n",
    "(-x^{(i)}_{j}exp({-\\theta^{T}x^{(i)}}))= \n",
    "\\end{align}"
   ]
  },
  {
   "cell_type": "markdown",
   "metadata": {},
   "source": [
    "\\begin{align}\n",
    "=\\frac{-x^{(i)}_{j}}{(exp({\\theta^{T}{x^{(i)}}})+1)}\n",
    "\\end{align}"
   ]
  },
  {
   "cell_type": "markdown",
   "metadata": {},
   "source": [
    "\\begin{align}\n",
    "\\nabla l(\\theta) = \\sum_{i=1}^{m} \\bigg[{x^{(i)}_{j}}({z^{(i)}}-1)+ \\frac{{x^{(i)}_{j}}}\n",
    "{1+exp({\\theta^{T}x^{(i)}})}\\bigg]\n",
    "\\end{align}\n"
   ]
  },
  {
   "cell_type": "markdown",
   "metadata": {},
   "source": [
    "***We can show that the partial derivative of $l(\\theta)$ is equal to the result observed in class:***"
   ]
  },
  {
   "cell_type": "markdown",
   "metadata": {},
   "source": [
    "\\begin{align}\n",
    "\\frac{\\partial l(\\theta)}{\\partial \\theta_j}= \\sum_{i=1}^{m}\\biggl[{x_j^{(i)}}({z^{(i)}}-1)+{x_j^{(i)}}\n",
    "\\biggl(\\frac{1}{1 + exp({\\theta^{T}x^{(i)}})}+1-1\\biggl)\\biggl]= \\\\\n",
    "=\\sum_{i=1}^{m}\\biggl[{x_j^{(i)}} - {x_j^{(i)}}+ {x_j^{(i)}}{z_j^{(i)\n",
    "}}+{x_j^{(i)}} \\biggl( \\frac{1}{1+exp({ \\theta^{T}x^{(i)}})}-1 \\biggl)\\biggl]=\n",
    "\\end{align}"
   ]
  },
  {
   "cell_type": "markdown",
   "metadata": {},
   "source": [
    "\\begin{align}\n",
    "=\\sum_{i=1}^{m}\\biggl[ {x_j^{(i)}}{z_j^{(i)\n",
    "}}+{x_j^{(i)}} \\biggl( \\frac{1-1-exp({\\theta^{T}x^{(i)}})}{1+exp({\\theta^{T}x^{(i)}})} \\biggl)\\biggl]=\n",
    "\\end{align}"
   ]
  },
  {
   "cell_type": "markdown",
   "metadata": {},
   "source": [
    "\\begin{align}\n",
    "=\\sum_{i=1}^{m}\\biggl[ {x_j^{(i)}}{z_j^{(i)\n",
    "}}-{x_j^{(i)}} \\biggl( \\frac{1}{1+exp({\\theta^{T}x^{(i)}})} \\biggl)\\biggl]\n",
    "\\end{align}"
   ]
  },
  {
   "cell_type": "markdown",
   "metadata": {},
   "source": [
    "### Hessian Matrix "
   ]
  },
  {
   "cell_type": "markdown",
   "metadata": {},
   "source": [
    "\\begin{align}\n",
    "H_{kj} = \\frac{\\partial^{2} l(\\theta)}{\\partial \\theta_{k} \\partial \\theta_{j}}\n",
    "\\end{align}"
   ]
  },
  {
   "cell_type": "markdown",
   "metadata": {},
   "source": [
    "\\begin{align}\n",
    "\\frac{\\partial l(\\theta)}{\\partial \\theta_{j}} = l'(\\theta)= \n",
    "\\sum_{i=1}^{m}x_j^{(i)} \\biggl[ z^{(i)}- \\frac{1}{1+exp({ -\\theta^{T} }x^{(i)})}\\biggl]\n",
    "\\end{align}"
   ]
  },
  {
   "cell_type": "markdown",
   "metadata": {},
   "source": [
    "\\begin{align}\n",
    "\\frac{\\partial^{2} l(\\theta)}{\\partial \\theta_{j} \\partial \\theta_{k}}= \n",
    "\\frac{\\partial }{\\partial \\theta_{k} }\\biggl[\\frac{\\partial l(\\theta)}{\\partial \\theta_j} \\biggl]= \\sum_{i=1}^{m}x_j^{(i)} \\biggl [\\frac{\\partial}{\\partial \\theta_k}(1+exp({ \\theta^{T}}x^{(i)}))^{-1} \\biggl] =\n",
    "\\end{align}"
   ]
  },
  {
   "cell_type": "markdown",
   "metadata": {},
   "source": [
    "\\begin{align}\n",
    "\\sum_{i=1}^{m} x_j^{(i)} \\biggl [-(1+exp({ \\theta^{T}x^{(i)}}))^{-2} x_k^{(i)}exp({ \\theta^{T}{x^{(i)}})})\\biggl] = \\sum_{i=1}^{m}x_j^{(i)}x_k^{(i)} \\biggl [-\\frac{exp({ \\theta^{T}}x^{(i)})}{1+exp({{\\theta^{T}}{x^{(i)}})^2}}\\biggl]\n",
    "\\end{align}"
   ]
  },
  {
   "cell_type": "code",
   "execution_count": null,
   "metadata": {},
   "outputs": [],
   "source": []
  }
 ],
 "metadata": {
  "kernelspec": {
   "display_name": "Python 3",
   "language": "python",
   "name": "python3"
  },
  "language_info": {
   "codemirror_mode": {
    "name": "ipython",
    "version": 3
   },
   "file_extension": ".py",
   "mimetype": "text/x-python",
   "name": "python",
   "nbconvert_exporter": "python",
   "pygments_lexer": "ipython3",
   "version": "3.7.9"
  }
 },
 "nbformat": 4,
 "nbformat_minor": 4
}
